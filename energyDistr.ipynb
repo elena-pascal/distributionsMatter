{
 "cells": [
  {
   "cell_type": "code",
   "execution_count": 1,
   "metadata": {},
   "outputs": [],
   "source": [
    "import h5py\n",
    "import matplotlib.pyplot as plt\n",
    "import plotly.plotly as py\n",
    "import plotly.graph_objs as go\n",
    "from plotly import tools\n",
    "import numpy as np\n",
    "import cmocean\n",
    "import cmocean.cm as cmo\n",
    "import plotly.tools as tls\n",
    "\n",
    "f = h5py.File('Ni-master-20kV.h5', 'r')"
   ]
  },
  {
   "cell_type": "code",
   "execution_count": 2,
   "metadata": {},
   "outputs": [],
   "source": [
    "import cmocean\n",
    "\n",
    "def cmocean_to_plotly(cmap, pl_entries):\n",
    "    h = 1.0/(pl_entries-1)\n",
    "    pl_colorscale = []\n",
    "\n",
    "    for k in range(pl_entries):\n",
    "        C = map(np.uint8, np.array(cmap(k*h)[:3])*255)\n",
    "        pl_colorscale.append([k*h, 'rgb'+str((C[0], C[1], C[2]))])\n",
    "\n",
    "    return pl_colorscale"
   ]
  },
  {
   "cell_type": "code",
   "execution_count": 3,
   "metadata": {},
   "outputs": [],
   "source": [
    "group_id = f['EMData/MCOpenCL']\n",
    "\n",
    "dataset = group_id['accum_e']\n",
    "\n",
    "energies = np.linspace(10., 20., 11)\n",
    "\n"
   ]
  },
  {
   "cell_type": "code",
   "execution_count": 4,
   "metadata": {},
   "outputs": [],
   "source": [
    "pannel1 = np.zeros(11)\n",
    "pannel2 = np.zeros(11)\n",
    "pannel3 = np.zeros(11)\n",
    "pannel4 = np.zeros(11)\n",
    "pannel5 = np.zeros(11)\n",
    "\n",
    "for e_indx, energy in enumerate(energies):\n",
    "    map_energy = dataset[()][:,:,e_indx]\n",
    "    \n",
    "    pannel1[e_indx] = np.sum(map_energy[  0:100, :,])\n",
    "    pannel2[e_indx] = np.sum(map_energy[100:200, :,])\n",
    "    pannel3[e_indx] = np.sum(map_energy[200:300, :])\n",
    "    pannel4[e_indx] = np.sum(map_energy[300:400, :,])\n",
    "    pannel5[e_indx] = np.sum(map_energy[400:501, :,])\n",
    "    "
   ]
  },
  {
   "cell_type": "code",
   "execution_count": 17,
   "metadata": {},
   "outputs": [
    {
     "data": {
      "text/html": [
       "<iframe id=\"igraph\" scrolling=\"no\" style=\"border:none;\" seamless=\"seamless\" src=\"https://plot.ly/~elena.pascal/2373.embed\" height=\"525px\" width=\"100%\"></iframe>"
      ],
      "text/plain": [
       "<plotly.tools.PlotlyDisplay object>"
      ]
     },
     "execution_count": 17,
     "metadata": {},
     "output_type": "execute_result"
    }
   ],
   "source": [
    "CSDAdist_pan1 = pannel1/np.sum(pannel1)\n",
    "\n",
    "trace1 = go.Scatter(x = energies,\n",
    "                    y = CSDAdist_pan1,\n",
    "                    name = 'pannel 1 (bottom)',\n",
    "                    mode = 'lines',\n",
    "                    )\n",
    "\n",
    "CSDAdist_pan2 = pannel2/np.sum(pannel2)\n",
    "\n",
    "trace2 = go.Scatter(x = energies,\n",
    "                    y = CSDAdist_pan2,\n",
    "                    name = 'pannel 2',\n",
    "                    mode = 'lines',\n",
    "                    )\n",
    "\n",
    "CSDAdist_pan3 = pannel3/np.sum(pannel3)\n",
    "\n",
    "trace3 = go.Scatter(x = energies,\n",
    "                    y = CSDAdist_pan3,\n",
    "                    name = 'pannel 3',\n",
    "                    mode = 'lines',\n",
    "                    )\n",
    "\n",
    "CSDAdist_pan4 = pannel4/np.sum(pannel4)\n",
    "\n",
    "trace4 = go.Scatter(x = energies,\n",
    "                    y = CSDAdist_pan4,\n",
    "                    name = 'pannel 4',\n",
    "                    mode = 'lines',\n",
    "                    )\n",
    "\n",
    "CSDAdist_pan5 = pannel5/np.sum(pannel5)\n",
    "\n",
    "trace5 = go.Scatter(x = energies,\n",
    "                    y = CSDAdist_pan5,\n",
    "                    name = 'pannel 5 (bottom)',\n",
    "                    mode = 'lines',\n",
    "                    )\n",
    "\n",
    "\n",
    "layout = go.Layout(\n",
    "    xaxis=dict(\n",
    "        title='Energy (keV)',\n",
    "        titlefont=dict(\n",
    "            family='Arial, sans-serif',\n",
    "            size=18,\n",
    "            color='grey'\n",
    "        )\n",
    "    ),\n",
    "   \n",
    "    yaxis=dict(     \n",
    "        title='normalised intensity ',\n",
    "        titlefont=dict(\n",
    "            family='Arial, sans-serif',\n",
    "            size=18,\n",
    "            color='grey'\n",
    "        )\n",
    "    )\n",
    ")\n",
    "\n",
    "data = [trace1, trace2, trace3, trace4, trace5]\n",
    "fig = go.Figure(data=data, layout=layout)\n",
    "\n",
    "\n",
    "\n",
    "py.iplot(fig, filename='energy_distributions')"
   ]
  },
  {
   "cell_type": "code",
   "execution_count": 6,
   "metadata": {},
   "outputs": [
    {
     "name": "stdout",
     "output_type": "stream",
     "text": [
      "18.88523077718305\n",
      "17.234734677395096\n",
      "16.224581539710798\n",
      "15.724025994812504\n",
      "15.90056893560653\n"
     ]
    }
   ],
   "source": [
    "def weightAverage(mypannel):\n",
    "    return sum(energies*mypannel)/sum(mypannel)\n",
    "\n",
    "\n",
    "print weightAverage(pannel1)\n",
    "print weightAverage(pannel2)\n",
    "print weightAverage(pannel3)\n",
    "print weightAverage(pannel4)\n",
    "print weightAverage(pannel5)"
   ]
  },
  {
   "cell_type": "code",
   "execution_count": 7,
   "metadata": {},
   "outputs": [],
   "source": [
    "def gaussian(x, mu, sig):\n",
    "    return np.exp(-np.power(x - mu, 2.) / (2 * np.power(sig, 2.)))\n",
    "\n",
    "\n"
   ]
  },
  {
   "cell_type": "code",
   "execution_count": 18,
   "metadata": {},
   "outputs": [
    {
     "data": {
      "text/html": [
       "<iframe id=\"igraph\" scrolling=\"no\" style=\"border:none;\" seamless=\"seamless\" src=\"https://plot.ly/~elena.pascal/2377.embed\" height=\"525px\" width=\"100%\"></iframe>"
      ],
      "text/plain": [
       "<plotly.tools.PlotlyDisplay object>"
      ]
     },
     "execution_count": 18,
     "metadata": {},
     "output_type": "execute_result"
    }
   ],
   "source": [
    "\n",
    "gausDistr_pan1 = gaussian(energies, weightAverage(pannel1), 0.25)\n",
    "\n",
    "traceG1 = go.Scatter(x = energies,\n",
    "                    y = gausDistr_pan1 ,\n",
    "                    name = 'Gaussian at weighted mean',\n",
    "                    mode = 'lines',\n",
    "                    )\n",
    "\n",
    "\n",
    "dataG1 = [trace1, traceG1]\n",
    "\n",
    "\n",
    "layout = go.Layout(\n",
    "    title = 'Pannel 1 CSDA versus Gaussian centered at weighted mean', \n",
    "    xaxis=dict(\n",
    "        title='Energy (keV)',\n",
    "        titlefont=dict(\n",
    "            family='Arial, sans-serif',\n",
    "            size=18,\n",
    "            color='grey'\n",
    "        )\n",
    "    ),\n",
    "   \n",
    "    yaxis=dict(      \n",
    "        title='Intensity (#counts)',\n",
    "        titlefont=dict(\n",
    "            family='Arial, sans-serif',\n",
    "            size=18,\n",
    "            color='grey'\n",
    "        )\n",
    "    )\n",
    ")\n",
    "\n",
    "\n",
    "fig = go.Figure(data=dataG1, layout=layout)\n",
    "\n",
    "\n",
    "\n",
    "py.iplot(fig, filename='CSDA+normal_pannel1')"
   ]
  },
  {
   "cell_type": "code",
   "execution_count": 19,
   "metadata": {},
   "outputs": [
    {
     "data": {
      "text/html": [
       "<iframe id=\"igraph\" scrolling=\"no\" style=\"border:none;\" seamless=\"seamless\" src=\"https://plot.ly/~elena.pascal/2379.embed\" height=\"525px\" width=\"100%\"></iframe>"
      ],
      "text/plain": [
       "<plotly.tools.PlotlyDisplay object>"
      ]
     },
     "execution_count": 19,
     "metadata": {},
     "output_type": "execute_result"
    }
   ],
   "source": [
    "gausDistr_pan2 = gaussian(energies, weightAverage(pannel2), 0.25)\n",
    "\n",
    "traceG2 = go.Scatter(x = energies,\n",
    "                    y = gausDistr_pan2,\n",
    "                    name = 'Gaussian at weighted mean',\n",
    "                    mode = 'lines',\n",
    "                    )\n",
    "\n",
    "\n",
    "dataG2 = [trace2, traceG2]\n",
    "\n",
    "\n",
    "layout = go.Layout(\n",
    "    title = 'Pannel 2 CSDA versus Gaussian centered at weighted mean', \n",
    "    xaxis=dict(\n",
    "        title='Energy (keV)',\n",
    "        titlefont=dict(\n",
    "            family='Arial, sans-serif',\n",
    "            size=18,\n",
    "            color='grey'\n",
    "        )\n",
    "    ),\n",
    "   \n",
    "    yaxis=dict(      \n",
    "        title='Intensity (#counts)',\n",
    "        titlefont=dict(\n",
    "            family='Arial, sans-serif',\n",
    "            size=18,\n",
    "            color='grey'\n",
    "        )\n",
    "    )\n",
    ")\n",
    "\n",
    "\n",
    "fig = go.Figure(data=dataG2, layout=layout)\n",
    "\n",
    "\n",
    "\n",
    "py.iplot(fig, filename='CSDA+normal_pannel2')"
   ]
  },
  {
   "cell_type": "code",
   "execution_count": 20,
   "metadata": {},
   "outputs": [
    {
     "data": {
      "text/html": [
       "<iframe id=\"igraph\" scrolling=\"no\" style=\"border:none;\" seamless=\"seamless\" src=\"https://plot.ly/~elena.pascal/2381.embed\" height=\"525px\" width=\"100%\"></iframe>"
      ],
      "text/plain": [
       "<plotly.tools.PlotlyDisplay object>"
      ]
     },
     "execution_count": 20,
     "metadata": {},
     "output_type": "execute_result"
    }
   ],
   "source": [
    "gausDistr_pan3 = gaussian(energies, weightAverage(pannel3), 0.25)\n",
    "\n",
    "traceG3 = go.Scatter(x = energies,\n",
    "                    y = gausDistr_pan3,\n",
    "                    name = 'Gaussian at weighted mean',\n",
    "                    mode = 'lines',\n",
    "                    )\n",
    "\n",
    "\n",
    "dataG3 = [trace3, traceG3]\n",
    "\n",
    "\n",
    "layout = go.Layout(\n",
    "    title = 'Pannel 3 CSDA versus Gaussian centered at weighted mean', \n",
    "    xaxis=dict(\n",
    "        title='Energy (keV)',\n",
    "        titlefont=dict(\n",
    "            family='Arial, sans-serif',\n",
    "            size=18,\n",
    "            color='grey'\n",
    "        )\n",
    "    ),\n",
    "   \n",
    "    yaxis=dict(      \n",
    "        title='Intensity (#counts)',\n",
    "        titlefont=dict(\n",
    "            family='Arial, sans-serif',\n",
    "            size=18,\n",
    "            color='grey'\n",
    "        )\n",
    "    )\n",
    ")\n",
    "\n",
    "\n",
    "fig = go.Figure(data=dataG3, layout=layout)\n",
    "\n",
    "\n",
    "\n",
    "py.iplot(fig, filename='CSDA+normal_pannel3')"
   ]
  },
  {
   "cell_type": "code",
   "execution_count": 21,
   "metadata": {},
   "outputs": [
    {
     "data": {
      "text/html": [
       "<iframe id=\"igraph\" scrolling=\"no\" style=\"border:none;\" seamless=\"seamless\" src=\"https://plot.ly/~elena.pascal/2383.embed\" height=\"525px\" width=\"100%\"></iframe>"
      ],
      "text/plain": [
       "<plotly.tools.PlotlyDisplay object>"
      ]
     },
     "execution_count": 21,
     "metadata": {},
     "output_type": "execute_result"
    }
   ],
   "source": [
    "gausDistr_pan4 = gaussian(energies, weightAverage(pannel4), 0.25)\n",
    "\n",
    "traceG4 = go.Scatter(x = energies,\n",
    "                    y = gausDistr_pan4,\n",
    "                    name = 'Gaussian at weighted mean',\n",
    "                    mode = 'lines',\n",
    "                    )\n",
    "\n",
    "\n",
    "dataG4 = [trace4, traceG4]\n",
    "\n",
    "\n",
    "layout = go.Layout(\n",
    "    title = 'Pannel 4 CSDA versus Gaussian centered at weighted mean', \n",
    "    xaxis=dict(\n",
    "        title='Energy (keV)',\n",
    "        titlefont=dict(\n",
    "            family='Arial, sans-serif',\n",
    "            size=18,\n",
    "            color='grey'\n",
    "        )\n",
    "    ),\n",
    "   \n",
    "    yaxis=dict(      \n",
    "        title='Intensity (#counts)',\n",
    "        titlefont=dict(\n",
    "            family='Arial, sans-serif',\n",
    "            size=18,\n",
    "            color='grey'\n",
    "        )\n",
    "    )\n",
    ")\n",
    "\n",
    "\n",
    "fig = go.Figure(data=dataG4, layout=layout)\n",
    "\n",
    "\n",
    "\n",
    "py.iplot(fig, filename='CSDA+normal_pannel4')"
   ]
  },
  {
   "cell_type": "code",
   "execution_count": 22,
   "metadata": {},
   "outputs": [
    {
     "data": {
      "text/html": [
       "<iframe id=\"igraph\" scrolling=\"no\" style=\"border:none;\" seamless=\"seamless\" src=\"https://plot.ly/~elena.pascal/2385.embed\" height=\"525px\" width=\"100%\"></iframe>"
      ],
      "text/plain": [
       "<plotly.tools.PlotlyDisplay object>"
      ]
     },
     "execution_count": 22,
     "metadata": {},
     "output_type": "execute_result"
    }
   ],
   "source": [
    "gausDistr_pan5 = gaussian(energies, weightAverage(pannel5), 0.25)\n",
    "\n",
    "\n",
    "traceG5 = go.Scatter(x = energies,\n",
    "                    y = gausDistr_pan5,\n",
    "                    name = 'Gaussian at weighted mean',\n",
    "                    mode = 'lines',\n",
    "                    )\n",
    "\n",
    "\n",
    "dataG5 = [trace5, traceG5]\n",
    "\n",
    "\n",
    "layout = go.Layout(\n",
    "    title = 'Pannel 4 CSDA versus Gaussian centered at weighted mean', \n",
    "    xaxis=dict(\n",
    "        title='Energy (keV)',\n",
    "        titlefont=dict(\n",
    "            family='Arial, sans-serif',\n",
    "            size=18,\n",
    "            color='grey'\n",
    "        )\n",
    "    ),\n",
    "   \n",
    "    yaxis=dict(      \n",
    "        title='Intensity (#counts)',\n",
    "        titlefont=dict(\n",
    "            family='Arial, sans-serif',\n",
    "            size=18,\n",
    "            color='grey'\n",
    "        )\n",
    "    )\n",
    ")\n",
    "\n",
    "\n",
    "fig = go.Figure(data=dataG5, layout=layout)\n",
    "\n",
    "\n",
    "\n",
    "py.iplot(fig, filename='CSDA+normal_pannel5')"
   ]
  },
  {
   "cell_type": "code",
   "execution_count": 16,
   "metadata": {},
   "outputs": [
    {
     "name": "stdout",
     "output_type": "stream",
     "text": [
      "The draw time for this plot will be slow for clients without much RAM.\n"
     ]
    },
    {
     "data": {
      "text/html": [
       "<iframe id=\"igraph\" scrolling=\"no\" style=\"border:none;\" seamless=\"seamless\" src=\"https://plot.ly/~elena.pascal/2389.embed\" height=\"525px\" width=\"100%\"></iframe>"
      ],
      "text/plain": [
       "<plotly.tools.PlotlyDisplay object>"
      ]
     },
     "execution_count": 16,
     "metadata": {},
     "output_type": "execute_result"
    }
   ],
   "source": [
    "# some 2D image to which I give the energy array as a parameter so it slightly changes\n",
    "dx = dy = 0.05\n",
    "y, x = np.mgrid[-5 : 5 + dy : dy, -5 : 10 + dx : dx]\n",
    "\n",
    "def somefunction(x,y, energy_val):\n",
    "     return np.sin(x)**10 + np.cos(10 + 0.1*energy_val*y*x) + np.cos(x) + 0.2*y + 0.1*x\n",
    "\n",
    "    \n",
    "max_len = len(somefunction(x,y,energies[1]))\n",
    "\n",
    "thermal = cmocean_to_plotly(cmocean.cm.thermal, max_len)\n",
    "\n",
    "\n",
    "# create a dictionary with plots at different 'energies'\n",
    "traces_color_e = {}\n",
    "\n",
    "for energy in energies:\n",
    "    traces_color_e[energy] = go.Heatmap(z=somefunction(x, y, energy),colorscale=thermal,showscale=False)\n",
    "    if (energy == 20.):\n",
    "        traces_color_e[energy] = go.Heatmap(z=somefunction(x, y, energy),colorscale=thermal)\n",
    "\n",
    "# plot even energy images; takes too long to plot all in one go\n",
    "fig = tools.make_subplots(rows=2, cols=3, print_grid=False)\n",
    "fig.append_trace(traces_color_e[10], 1, 1)\n",
    "fig.append_trace(traces_color_e[12], 1, 2)\n",
    "fig.append_trace(traces_color_e[14], 1, 3)\n",
    "fig.append_trace(traces_color_e[16], 2, 1)\n",
    "fig.append_trace(traces_color_e[18], 2, 2)\n",
    "fig.append_trace(traces_color_e[20], 2, 3)\n",
    "\n",
    "fig['layout'].update(title='Plots for some energies')\n",
    "\n",
    "    \n",
    "py.iplot(fig,  filename='normal3_color')"
   ]
  },
  {
   "cell_type": "code",
   "execution_count": 38,
   "metadata": {},
   "outputs": [
    {
     "data": {
      "text/html": [
       "<iframe id=\"igraph\" scrolling=\"no\" style=\"border:none;\" seamless=\"seamless\" src=\"https://plot.ly/~elena.pascal/2391.embed\" height=\"525px\" width=\"100%\"></iframe>"
      ],
      "text/plain": [
       "<plotly.tools.PlotlyDisplay object>"
      ]
     },
     "execution_count": 38,
     "metadata": {},
     "output_type": "execute_result"
    }
   ],
   "source": [
    "# now add images by weighting their 'energy' distribution CSDA versus Gaussian\n",
    "\n",
    "weightIm_CSDA_pan1 = 0.\n",
    "weightIm_CSDA_pan2 = 0.\n",
    "weightIm_CSDA_pan3 = 0.\n",
    "weightIm_CSDA_pan4 = 0.\n",
    "weightIm_CSDA_pan5 = 0.\n",
    "\n",
    "\n",
    "weightIm_Gauss_pan1 = 0.\n",
    "weightIm_Gauss_pan2 = 0.\n",
    "weightIm_Gauss_pan3 = 0.\n",
    "weightIm_Gauss_pan4 = 0.\n",
    "weightIm_Gauss_pan5 = 0.\n",
    "\n",
    "for e_indx, energy in enumerate(energies):\n",
    "    weightIm_CSDA_pan1 += somefunction(x, y, energy) * CSDAdist_pan1[e_indx]   \n",
    "    weightIm_CSDA_pan2 += somefunction(x, y, energy) * CSDAdist_pan2[e_indx]\n",
    "    weightIm_CSDA_pan3 += somefunction(x, y, energy) * CSDAdist_pan3[e_indx]\n",
    "    weightIm_CSDA_pan4 += somefunction(x, y, energy) * CSDAdist_pan4[e_indx]\n",
    "    weightIm_CSDA_pan5 += somefunction(x, y, energy) * CSDAdist_pan5[e_indx]\n",
    "    \n",
    "    weightIm_Gauss_pan1 += somefunction(x, y, energy) * gausDistr_pan1[e_indx]   \n",
    "    weightIm_Gauss_pan2 += somefunction(x, y, energy) * gausDistr_pan2[e_indx]\n",
    "    weightIm_Gauss_pan3 += somefunction(x, y, energy) * gausDistr_pan3[e_indx]\n",
    "    weightIm_Gauss_pan4 += somefunction(x, y, energy) * gausDistr_pan4[e_indx]\n",
    "    weightIm_Gauss_pan5 += somefunction(x, y, energy) * gausDistr_pan5[e_indx]\n",
    "    \n",
    "    \n",
    "\n",
    "trace_finIm_CSDA_pan1 = go.Heatmap(z=weightIm_CSDA_pan1,colorscale=thermal,showscale=False)\n",
    "trace_finIm_CSDA_pan2 = go.Heatmap(z=weightIm_CSDA_pan2,colorscale=thermal,showscale=False)\n",
    "trace_finIm_CSDA_pan3 = go.Heatmap(z=weightIm_CSDA_pan3,colorscale=thermal,showscale=False)\n",
    "trace_finIm_CSDA_pan4 = go.Heatmap(z=weightIm_CSDA_pan4,colorscale=thermal,showscale=False)\n",
    "trace_finIm_CSDA_pan5 = go.Heatmap(z=weightIm_CSDA_pan5,colorscale=thermal,showscale=False)\n",
    "\n",
    "trace_finIm_Gauss_pan1 = go.Heatmap(z=weightIm_Gauss_pan1,colorscale=thermal)\n",
    "trace_finIm_Gauss_pan2 = go.Heatmap(z=weightIm_Gauss_pan2,colorscale=thermal)\n",
    "trace_finIm_Gauss_pan3 = go.Heatmap(z=weightIm_Gauss_pan3,colorscale=thermal)\n",
    "trace_finIm_Gauss_pan4 = go.Heatmap(z=weightIm_Gauss_pan4,colorscale=thermal)\n",
    "trace_finIm_Gauss_pan5 = go.Heatmap(z=weightIm_Gauss_pan5,colorscale=thermal)\n",
    "\n",
    "\n",
    "\n",
    "fig = tools.make_subplots(rows=2, cols=1, print_grid=False)\n",
    "fig.append_trace(trace_finIm_CSDA_pan1, 1, 1)\n",
    "fig.append_trace(trace_finIm_Gauss_pan1, 2, 1)\n",
    "\n",
    "fig['layout'].update(title='CSDA weighted versus Gaussian weighted -- pannel 1')\n",
    "\n",
    "    \n",
    "py.iplot(fig,  filename='CSDAvsGauss_pan1.png')"
   ]
  },
  {
   "cell_type": "code",
   "execution_count": 30,
   "metadata": {},
   "outputs": [
    {
     "data": {
      "text/html": [
       "<iframe id=\"igraph\" scrolling=\"no\" style=\"border:none;\" seamless=\"seamless\" src=\"https://plot.ly/~elena.pascal/2393.embed\" height=\"525px\" width=\"100%\"></iframe>"
      ],
      "text/plain": [
       "<plotly.tools.PlotlyDisplay object>"
      ]
     },
     "execution_count": 30,
     "metadata": {},
     "output_type": "execute_result"
    }
   ],
   "source": [
    "fig = tools.make_subplots(rows=2, cols=1, print_grid=False)\n",
    "fig.append_trace(trace_finIm_CSDA_pan2, 1, 1)\n",
    "fig.append_trace(trace_finIm_Gauss_pan2, 2, 1)\n",
    "\n",
    "fig['layout'].update(title='CSDA weighted versus Gaussian weighted -- pannel 2')\n",
    "\n",
    "    \n",
    "py.iplot(fig,  filename='CSDAvsGauss_pan2.png')"
   ]
  },
  {
   "cell_type": "code",
   "execution_count": 32,
   "metadata": {},
   "outputs": [
    {
     "data": {
      "text/html": [
       "<iframe id=\"igraph\" scrolling=\"no\" style=\"border:none;\" seamless=\"seamless\" src=\"https://plot.ly/~elena.pascal/2397.embed\" height=\"525px\" width=\"100%\"></iframe>"
      ],
      "text/plain": [
       "<plotly.tools.PlotlyDisplay object>"
      ]
     },
     "execution_count": 32,
     "metadata": {},
     "output_type": "execute_result"
    }
   ],
   "source": [
    "fig = tools.make_subplots(rows=2, cols=1, print_grid=False)\n",
    "fig.append_trace(trace_finIm_CSDA_pan3, 1, 1)\n",
    "fig.append_trace(trace_finIm_Gauss_pan3, 2, 1)\n",
    "\n",
    "fig['layout'].update(title='CSDA weighted versus Gaussian weighted -- pannel 3')\n",
    "\n",
    "    \n",
    "py.iplot(fig,  filename='CSDAvsGauss_pan3.png')"
   ]
  },
  {
   "cell_type": "code",
   "execution_count": 39,
   "metadata": {},
   "outputs": [
    {
     "data": {
      "text/html": [
       "<iframe id=\"igraph\" scrolling=\"no\" style=\"border:none;\" seamless=\"seamless\" src=\"https://plot.ly/~elena.pascal/2399.embed\" height=\"525px\" width=\"100%\"></iframe>"
      ],
      "text/plain": [
       "<plotly.tools.PlotlyDisplay object>"
      ]
     },
     "execution_count": 39,
     "metadata": {},
     "output_type": "execute_result"
    }
   ],
   "source": [
    "fig = tools.make_subplots(rows=2, cols=1, print_grid=False)\n",
    "fig.append_trace(trace_finIm_CSDA_pan4, 1, 1)\n",
    "fig.append_trace(trace_finIm_Gauss_pan4, 2, 1)\n",
    "\n",
    "fig['layout'].update(title='CSDA weighted versus Gaussian weighted -- pannel 4')\n",
    "\n",
    "    \n",
    "py.iplot(fig,  filename='CSDAvsGauss_pan4.png')"
   ]
  },
  {
   "cell_type": "code",
   "execution_count": 40,
   "metadata": {},
   "outputs": [
    {
     "data": {
      "text/html": [
       "<iframe id=\"igraph\" scrolling=\"no\" style=\"border:none;\" seamless=\"seamless\" src=\"https://plot.ly/~elena.pascal/2401.embed\" height=\"525px\" width=\"100%\"></iframe>"
      ],
      "text/plain": [
       "<plotly.tools.PlotlyDisplay object>"
      ]
     },
     "execution_count": 40,
     "metadata": {},
     "output_type": "execute_result"
    }
   ],
   "source": [
    "fig = tools.make_subplots(rows=2, cols=1, print_grid=False)\n",
    "fig.append_trace(trace_finIm_CSDA_pan5, 1, 1)\n",
    "fig.append_trace(trace_finIm_Gauss_pan5, 2, 1)\n",
    "\n",
    "fig['layout'].update(title='CSDA weighted versus Gaussian weighted -- pannel 5')\n",
    "\n",
    "    \n",
    "py.iplot(fig,  filename='CSDAvsGauss_pan5.png')"
   ]
  },
  {
   "cell_type": "code",
   "execution_count": null,
   "metadata": {},
   "outputs": [],
   "source": []
  }
 ],
 "metadata": {
  "kernelspec": {
   "display_name": "Python 2",
   "language": "python",
   "name": "python2"
  },
  "language_info": {
   "codemirror_mode": {
    "name": "ipython",
    "version": 2
   },
   "file_extension": ".py",
   "mimetype": "text/x-python",
   "name": "python",
   "nbconvert_exporter": "python",
   "pygments_lexer": "ipython2",
   "version": "2.7.15rc1"
  }
 },
 "nbformat": 4,
 "nbformat_minor": 2
}
